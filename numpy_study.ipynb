{
  "nbformat": 4,
  "nbformat_minor": 0,
  "metadata": {
    "colab": {
      "name": "numpy_study.ipynb",
      "provenance": [],
      "collapsed_sections": [],
      "authorship_tag": "ABX9TyOjzXCOZgUScejIbF9b5Mxv",
      "include_colab_link": true
    },
    "kernelspec": {
      "name": "python3",
      "display_name": "Python 3"
    }
  },
  "cells": [
    {
      "cell_type": "markdown",
      "metadata": {
        "id": "view-in-github",
        "colab_type": "text"
      },
      "source": [
        "<a href=\"https://colab.research.google.com/github/groupsvkg/ai/blob/main/numpy_study.ipynb\" target=\"_parent\"><img src=\"https://colab.research.google.com/assets/colab-badge.svg\" alt=\"Open In Colab\"/></a>"
      ]
    },
    {
      "cell_type": "code",
      "metadata": {
        "colab": {
          "base_uri": "https://localhost:8080/"
        },
        "id": "CtYp-iiF8Na2",
        "outputId": "9dbd448e-63c4-462d-c426-321b4fa04f50"
      },
      "source": [
        "import numpy as np\n",
        "\n",
        "a = np.array([2, 5, 6, 9])\n",
        "b = np.array([3.9, 4, 6, 8])\n",
        "print(a*b)\n",
        "print(a+b)\n",
        "print(np.sin(a))"
      ],
      "execution_count": 10,
      "outputs": [
        {
          "output_type": "stream",
          "text": [
            "[ 7.8 20.  36.  72. ]\n",
            "[ 5.9  9.  12.  17. ]\n",
            "[ 0.90929743 -0.95892427 -0.2794155   0.41211849]\n"
          ],
          "name": "stdout"
        }
      ]
    },
    {
      "cell_type": "code",
      "metadata": {
        "colab": {
          "base_uri": "https://localhost:8080/"
        },
        "id": "W5HFcFv39TNG",
        "outputId": "4d9dcc5c-0156-436c-a455-970ee67effd1"
      },
      "source": [
        "a = np.arange(25).reshape(5,5)\n",
        "\n",
        "print(a)\n",
        "\n",
        "# Print Corners\n",
        "## Corners\n",
        "print(a[0::4, 0::4])\n"
      ],
      "execution_count": 17,
      "outputs": [
        {
          "output_type": "stream",
          "text": [
            "[[ 0  1  2  3  4]\n",
            " [ 5  6  7  8  9]\n",
            " [10 11 12 13 14]\n",
            " [15 16 17 18 19]\n",
            " [20 21 22 23 24]]\n",
            "[[ 0  4]\n",
            " [20 24]]\n"
          ],
          "name": "stdout"
        }
      ]
    }
  ]
}