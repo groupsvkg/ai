{
  "nbformat": 4,
  "nbformat_minor": 0,
  "metadata": {
    "colab": {
      "name": "pytorch_study.ipynb",
      "provenance": [],
      "collapsed_sections": [],
      "toc_visible": true,
      "authorship_tag": "ABX9TyNvlFmOCNaopaclCjIzYhYN",
      "include_colab_link": true
    },
    "kernelspec": {
      "name": "python3",
      "display_name": "Python 3"
    }
  },
  "cells": [
    {
      "cell_type": "markdown",
      "metadata": {
        "id": "view-in-github",
        "colab_type": "text"
      },
      "source": [
        "<a href=\"https://colab.research.google.com/github/groupsvkg/ai/blob/main/pytorch_study.ipynb\" target=\"_parent\"><img src=\"https://colab.research.google.com/assets/colab-badge.svg\" alt=\"Open In Colab\"/></a>"
      ]
    },
    {
      "cell_type": "markdown",
      "metadata": {
        "id": "NFw6jRwi4gpj"
      },
      "source": [
        "# Import packages"
      ]
    },
    {
      "cell_type": "code",
      "metadata": {
        "id": "XdQkOxrGhc-8"
      },
      "source": [
        "import torch\n",
        "import torchvision\n",
        "from torchvision.datasets import MNIST"
      ],
      "execution_count": 1,
      "outputs": []
    },
    {
      "cell_type": "markdown",
      "metadata": {
        "id": "YJ-oPEyJ3Tgv"
      },
      "source": [
        "# Download MNIST dataset"
      ]
    },
    {
      "cell_type": "code",
      "metadata": {
        "colab": {
          "base_uri": "https://localhost:8080/"
        },
        "id": "MNgN4gihnB8C",
        "outputId": "5cd5bbf3-1411-42ff-c5f7-cb17943bda22"
      },
      "source": [
        "dataset = MNIST(root='data/', download=True)\n",
        "len(dataset)"
      ],
      "execution_count": 13,
      "outputs": [
        {
          "output_type": "execute_result",
          "data": {
            "text/plain": [
              "60000"
            ]
          },
          "metadata": {
            "tags": []
          },
          "execution_count": 13
        }
      ]
    },
    {
      "cell_type": "markdown",
      "metadata": {
        "id": "dBiJx5f43NKS"
      },
      "source": [
        "# Load test data"
      ]
    },
    {
      "cell_type": "code",
      "metadata": {
        "colab": {
          "base_uri": "https://localhost:8080/"
        },
        "id": "LOLrjDF4n7MQ",
        "outputId": "ec574e7a-715d-4ed7-e10f-a3463d178532"
      },
      "source": [
        "test_dataset =MNIST(root='data/', train=False)\n",
        "len(test_dataset)"
      ],
      "execution_count": 3,
      "outputs": [
        {
          "output_type": "execute_result",
          "data": {
            "text/plain": [
              "10000"
            ]
          },
          "metadata": {
            "tags": []
          },
          "execution_count": 3
        }
      ]
    },
    {
      "cell_type": "markdown",
      "metadata": {
        "id": "XZIydzgH3Ea4"
      },
      "source": [
        "# Display single image"
      ]
    },
    {
      "cell_type": "code",
      "metadata": {
        "colab": {
          "base_uri": "https://localhost:8080/",
          "height": 333
        },
        "id": "kTIaBZHvrtwn",
        "outputId": "e03dc3e7-5dcd-4920-efc8-cb1d3fe06d21"
      },
      "source": [
        "dataset[0]\n",
        "\n",
        "import matplotlib.pyplot as plt\n",
        "image, label = dataset[0]\n",
        "\n",
        "plt.imshow(image, cmap='gray')"
      ],
      "execution_count": 4,
      "outputs": [
        {
          "output_type": "stream",
          "text": [
            "\n"
          ],
          "name": "stdout"
        },
        {
          "output_type": "execute_result",
          "data": {
            "text/plain": [
              "<matplotlib.image.AxesImage at 0x7f2342295320>"
            ]
          },
          "metadata": {
            "tags": []
          },
          "execution_count": 4
        },
        {
          "output_type": "display_data",
          "data": {
            "image/png": "[encoded data removed]",
            "text/plain": [
              "<Figure size 432x288 with 1 Axes>"
            ]
          },
          "metadata": {
            "tags": [],
            "needs_background": "light"
          }
        },
        {
          "output_type": "stream",
          "text": [
            "\n",
            "\n"
          ],
          "name": "stdout"
        }
      ]
    },
    {
      "cell_type": "markdown",
      "metadata": {
        "id": "OYqvrMB-23FV"
      },
      "source": [
        "# Transform data to Tensors"
      ]
    },
    {
      "cell_type": "code",
      "metadata": {
        "id": "HGuQw5ovru-N"
      },
      "source": [
        "import torchvision.transforms as transforms\n",
        "dataset = MNIST(root='data/', \n",
        "                train=True, \n",
        "                transform=transforms.ToTensor())"
      ],
      "execution_count": 5,
      "outputs": []
    },
    {
      "cell_type": "code",
      "metadata": {
        "colab": {
          "base_uri": "https://localhost:8080/",
          "height": 384
        },
        "id": "hpZNUItvsUSP",
        "outputId": "1804d44e-06dc-4d12-da9c-149294e2bbec"
      },
      "source": [
        "img_tensor, label = dataset[0]\n",
        "print(img_tensor.shape, label)\n",
        "print(img_tensor[0, 10:15, 10:15])\n",
        "plt.imshow(img_tensor[0, 10:15, 10:15].numpy(), cmap='gray')"
      ],
      "execution_count": 6,
      "outputs": [
        {
          "output_type": "stream",
          "text": [
            "torch.Size([1, 28, 28]) 5\n",
            "tensor([[0.0039, 0.6039, 0.9922, 0.3529, 0.0000],\n",
            "        [0.0000, 0.5451, 0.9922, 0.7451, 0.0078],\n",
            "        [0.0000, 0.0431, 0.7451, 0.9922, 0.2745],\n",
            "        [0.0000, 0.0000, 0.1373, 0.9451, 0.8824],\n",
            "        [0.0000, 0.0000, 0.0000, 0.3176, 0.9412]])\n"
          ],
          "name": "stdout"
        },
        {
          "output_type": "execute_result",
          "data": {
            "text/plain": [
              "<matplotlib.image.AxesImage at 0x7f2341d6a470>"
            ]
          },
          "metadata": {
            "tags": []
          },
          "execution_count": 6
        },
        {
          "output_type": "display_data",
          "data": {
            "image/png": "[encoded data removed]",
            "text/plain": [
              "<Figure size 432x288 with 1 Axes>"
            ]
          },
          "metadata": {
            "tags": [],
            "needs_background": "light"
          }
        }
      ]
    },
    {
      "cell_type": "markdown",
      "metadata": {
        "id": "PfGKSEeb06VE"
      },
      "source": [
        "# Split Data Randomly\n",
        "*   Training Dataset: 50000\n",
        "*   Validation Dataset: 10000\n",
        "\n"
      ]
    },
    {
      "cell_type": "code",
      "metadata": {
        "colab": {
          "base_uri": "https://localhost:8080/"
        },
        "id": "-7AHpM0IzU8T",
        "outputId": "9b98a72e-7e44-4646-a761-fe14b3327043"
      },
      "source": [
        "from torch.utils.data import random_split\n",
        "train_ds, val_ds = random_split(dataset, [50000, 10000])\n",
        "len(train_ds), len(val_ds)"
      ],
      "execution_count": 7,
      "outputs": [
        {
          "output_type": "execute_result",
          "data": {
            "text/plain": [
              "(50000, 10000)"
            ]
          },
          "metadata": {
            "tags": []
          },
          "execution_count": 7
        }
      ]
    },
    {
      "cell_type": "markdown",
      "metadata": {
        "id": "8rzce2Id1TzY"
      },
      "source": [
        "# Load data in batches"
      ]
    },
    {
      "cell_type": "code",
      "metadata": {
        "id": "an5MxD-o1RkL"
      },
      "source": [
        "from torch.utils.data import DataLoader\n",
        "batch_size = 128\n",
        "\n",
        "train_loader = DataLoader(train_ds, batch_size, shuffle=True)\n",
        "val_loader = DataLoader(val_ds, batch_size)"
      ],
      "execution_count": 8,
      "outputs": []
    },
    {
      "cell_type": "markdown",
      "metadata": {
        "id": "ApHzJ-tZ6mOp"
      },
      "source": [
        "# Model"
      ]
    },
    {
      "cell_type": "code",
      "metadata": {
        "id": "9CRSKqLT6lDG"
      },
      "source": [
        "import torch.nn as nn\n",
        "\n",
        "input_size = 28*28\n",
        "num_classes = 10\n",
        "model = nn.Linear(input_size, num_classes)"
      ],
      "execution_count": 9,
      "outputs": []
    },
    {
      "cell_type": "code",
      "metadata": {
        "colab": {
          "base_uri": "https://localhost:8080/"
        },
        "id": "7esxGr_P68Uu",
        "outputId": "5f0d9855-ccb6-4ecb-ba2b-a0ad76415248"
      },
      "source": [
        "print(model.weight.shape)\n",
        "model.weight"
      ],
      "execution_count": 10,
      "outputs": [
        {
          "output_type": "stream",
          "text": [
            "torch.Size([10, 784])\n"
          ],
          "name": "stdout"
        },
        {
          "output_type": "execute_result",
          "data": {
            "text/plain": [
              "Parameter containing:\n",
              "tensor([[ 0.0098,  0.0232, -0.0028,  ...,  0.0077,  0.0061, -0.0354],\n",
              "        [ 0.0021,  0.0036,  0.0166,  ...,  0.0180,  0.0166, -0.0146],\n",
              "        [ 0.0098, -0.0135, -0.0155,  ..., -0.0006,  0.0182,  0.0326],\n",
              "        ...,\n",
              "        [-0.0190, -0.0350, -0.0165,  ..., -0.0149,  0.0140, -0.0320],\n",
              "        [-0.0342, -0.0047,  0.0322,  ...,  0.0165, -0.0079, -0.0275],\n",
              "        [-0.0029, -0.0159,  0.0034,  ...,  0.0292, -0.0284, -0.0045]],\n",
              "       requires_grad=True)"
            ]
          },
          "metadata": {
            "tags": []
          },
          "execution_count": 10
        }
      ]
    },
    {
      "cell_type": "code",
      "metadata": {
        "colab": {
          "base_uri": "https://localhost:8080/"
        },
        "id": "Yvkgx4BR8HvE",
        "outputId": "504f392c-8913-41c6-f81c-7cd7180b308f"
      },
      "source": [
        "print(model.bias.shape)\n",
        "model.bias"
      ],
      "execution_count": 11,
      "outputs": [
        {
          "output_type": "stream",
          "text": [
            "torch.Size([10])\n"
          ],
          "name": "stdout"
        },
        {
          "output_type": "execute_result",
          "data": {
            "text/plain": [
              "Parameter containing:\n",
              "tensor([ 0.0163, -0.0333, -0.0082,  0.0054,  0.0235,  0.0181, -0.0212, -0.0056,\n",
              "         0.0124, -0.0102], requires_grad=True)"
            ]
          },
          "metadata": {
            "tags": []
          },
          "execution_count": 11
        }
      ]
    },
    {
      "cell_type": "code",
      "metadata": {
        "colab": {
          "base_uri": "https://localhost:8080/"
        },
        "id": "C3BwW68J8vOx",
        "outputId": "24e84692-8e59-479e-a308-3f5f2ba2be90"
      },
      "source": [
        "for images, labels in train_loader:\n",
        "  print(labels)\n",
        "  print(images.shape)\n",
        "  outputs = model(images.reshape(128, 28*28))\n",
        "  print(outputs)\n",
        "  break"
      ],
      "execution_count": 12,
      "outputs": [
        {
          "output_type": "stream",
          "text": [
            "tensor([5, 0, 4, 1, 4, 1, 4, 7, 6, 7, 6, 7, 4, 5, 1, 4, 1, 5, 9, 1, 0, 3, 0, 5,\n",
            "        3, 4, 8, 1, 9, 4, 8, 1, 2, 1, 7, 8, 9, 5, 0, 2, 2, 0, 5, 3, 3, 5, 3, 1,\n",
            "        1, 0, 8, 8, 8, 7, 9, 5, 6, 5, 5, 9, 7, 4, 2, 8, 8, 6, 3, 7, 5, 2, 2, 6,\n",
            "        0, 2, 4, 3, 0, 3, 3, 6, 3, 9, 7, 2, 0, 4, 5, 5, 3, 5, 4, 1, 5, 7, 4, 8,\n",
            "        4, 9, 0, 1, 4, 1, 7, 5, 9, 6, 9, 1, 0, 0, 4, 9, 6, 4, 5, 4, 5, 1, 2, 6,\n",
            "        3, 2, 1, 6, 6, 7, 4, 2])\n",
            "torch.Size([128, 1, 28, 28])\n",
            "tensor([[-0.1095,  0.0747,  0.0568,  ..., -0.0101, -0.1666, -0.1313],\n",
            "        [-0.0777,  0.2187,  0.4564,  ...,  0.1314,  0.0703,  0.2413],\n",
            "        [ 0.1190,  0.1191, -0.0211,  ...,  0.3751, -0.1477, -0.2743],\n",
            "        ...,\n",
            "        [ 0.0699,  0.2584, -0.1356,  ..., -0.0352, -0.1896, -0.3182],\n",
            "        [ 0.1355,  0.0688,  0.1479,  ...,  0.3083, -0.0154, -0.0619],\n",
            "        [ 0.1598,  0.1063,  0.4204,  ..., -0.0094,  0.2651,  0.1819]],\n",
            "       grad_fn=<AddmmBackward>)\n"
          ],
          "name": "stdout"
        }
      ]
    }
  ]
}